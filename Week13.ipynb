{
  "nbformat": 4,
  "nbformat_minor": 0,
  "metadata": {
    "colab": {
      "name": "Week14.ipynb",
      "version": "0.3.2",
      "provenance": [],
      "collapsed_sections": [],
      "include_colab_link": true
    },
    "kernelspec": {
      "name": "python2",
      "display_name": "Python 2"
    }
  },
  "cells": [
    {
      "cell_type": "markdown",
      "metadata": {
        "id": "view-in-github",
        "colab_type": "text"
      },
      "source": [
        "<a href=\"https://colab.research.google.com/github/KrenareKrasniqi/Week14/blob/master/Week14.ipynb\" target=\"_parent\"><img src=\"https://colab.research.google.com/assets/colab-badge.svg\" alt=\"Open In Colab\"/></a>"
      ]
    },
    {
      "metadata": {
        "id": "8Zh1M8roq0bQ",
        "colab_type": "code",
        "colab": {}
      },
      "cell_type": "code",
      "source": [
        "import numpy as np\n",
        "import matplotlib.pyplot as plt\n",
        "t=[0.1, 1, 10]\n",
        "A=np.array([[-12, 12],\n",
        "    [3, -3]])\n",
        "B=np.zeros((len(t),2,2))\n",
        "for i in range (0,len(t)): \n",
        "  B[i]=np.exp(A*t[i])\n"
      ],
      "execution_count": 0,
      "outputs": []
    },
    {
      "metadata": {
        "id": "pOeiN2gXq1U4",
        "colab_type": "code",
        "colab": {
          "base_uri": "https://localhost:8080/",
          "height": 153
        },
        "outputId": "fda0950f-52f5-4f06-f745-3028f3be00d2"
      },
      "cell_type": "code",
      "source": [
        "B\n"
      ],
      "execution_count": 29,
      "outputs": [
        {
          "output_type": "execute_result",
          "data": {
            "text/plain": [
              "array([[[3.01194212e-01, 3.32011692e+00],\n",
              "        [1.34985881e+00, 7.40818221e-01]],\n",
              "\n",
              "       [[6.14421235e-06, 1.62754791e+05],\n",
              "        [2.00855369e+01, 4.97870684e-02]],\n",
              "\n",
              "       [[7.66764807e-53, 1.30418088e+52],\n",
              "        [1.06864746e+13, 9.35762297e-14]]])"
            ]
          },
          "metadata": {
            "tags": []
          },
          "execution_count": 29
        }
      ]
    },
    {
      "metadata": {
        "id": "DGZiA-O1tYWf",
        "colab_type": "code",
        "colab": {
          "base_uri": "https://localhost:8080/",
          "height": 290
        },
        "outputId": "9b2d5c4a-b8b1-483b-bdde-fb74d95a0371"
      },
      "cell_type": "code",
      "source": [
        "plt.semilogx(t,B[:,0,0])"
      ],
      "execution_count": 33,
      "outputs": [
        {
          "output_type": "execute_result",
          "data": {
            "text/plain": [
              "[<matplotlib.lines.Line2D at 0x7f78642a4310>]"
            ]
          },
          "metadata": {
            "tags": []
          },
          "execution_count": 33
        },
        {
          "output_type": "display_data",
          "data": {
            "image/png": "[encoded data removed]",
            "text/plain": [
              "<Figure size 432x288 with 1 Axes>"
            ]
          },
          "metadata": {
            "tags": []
          }
        }
      ]
    },
    {
      "metadata": {
        "id": "KTuLK0uKuA0w",
        "colab_type": "code",
        "colab": {}
      },
      "cell_type": "code",
      "source": [
        ""
      ],
      "execution_count": 0,
      "outputs": []
    }
  ]
}
